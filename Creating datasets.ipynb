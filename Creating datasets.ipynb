{
 "cells": [
  {
   "cell_type": "code",
   "execution_count": 4,
   "metadata": {
    "collapsed": false
   },
   "outputs": [],
   "source": [
    "#Import Libraries\n",
    "import os,json\n",
    "import time\n",
    "import pandas as pd\n",
    "import numpy as np\n",
    "from pandas.io.json import json_normalize"
   ]
  },
  {
   "cell_type": "markdown",
   "metadata": {},
   "source": [
    "### Convert 58k+ JSON to 30 CSV files (Each file with 2000 records)"
   ]
  },
  {
   "cell_type": "code",
   "execution_count": 3,
   "metadata": {
    "collapsed": false
   },
   "outputs": [
    {
     "name": "stdout",
     "output_type": "stream",
     "text": [
      "--- 147.83627128601074 seconds ---\n",
      "--- 333.9961552619934 seconds ---\n",
      "--- 478.7590091228485 seconds ---\n",
      "--- 619.8587391376495 seconds ---\n",
      "--- 762.5776979923248 seconds ---\n",
      "--- 904.6566708087921 seconds ---\n",
      "--- 1039.9115023612976 seconds ---\n",
      "--- 1177.2814173698425 seconds ---\n",
      "--- 1347.006910085678 seconds ---\n",
      "--- 1503.8823132514954 seconds ---\n",
      "--- 1646.3528242111206 seconds ---\n",
      "--- 1804.1526987552643 seconds ---\n",
      "--- 1980.0521972179413 seconds ---\n",
      "--- 2162.800525188446 seconds ---\n",
      "--- 2310.84694647789 seconds ---\n",
      "--- 2450.8800477981567 seconds ---\n",
      "--- 2588.80268740654 seconds ---\n",
      "--- 2729.2654750347137 seconds ---\n",
      "--- 2875.1180596351624 seconds ---\n",
      "--- 3020.5594053268433 seconds ---\n",
      "--- 3167.094987154007 seconds ---\n",
      "--- 3313.989399909973 seconds ---\n",
      "--- 3459.6679422855377 seconds ---\n",
      "--- 3626.0027158260345 seconds ---\n",
      "--- 3780.8816409111023 seconds ---\n",
      "--- 3926.7254400253296 seconds ---\n",
      "--- 4075.389240026474 seconds ---\n",
      "--- 4223.158165216446 seconds ---\n",
      "--- 4362.234123706818 seconds ---\n",
      "--- 4389.767466068268 seconds ---\n"
     ]
    }
   ],
   "source": [
    "#Load data\n",
    "start_time = time.time()\n",
    "\n",
    "path_main = 'Parkinsons_mPower_Voice_Features/'\n",
    "folder = 'Folder '\n",
    "for i in range (1,31):\n",
    "    folder_name = folder + str(i)\n",
    "    path_to_json = path_main+folder_name\n",
    "\n",
    "#path_to_json = 'Parkinsons_mPower_Voice_Features/Folder 30'\n",
    "    json_files = [pos_json for pos_json in os.listdir(path_to_json) if pos_json.endswith('.json')]\n",
    "    pd_list= []\n",
    "    for index, js in enumerate(json_files):\n",
    "        with open(os.path.join(path_to_json, js)) as json_file:\n",
    "            json_dict = json.load(json_file)\n",
    "            pd_list.append(json_dict)\n",
    "    pd_nor = json_normalize(pd_list)\n",
    "    print(\"--- %s seconds ---\" % (time.time() - start_time))\n",
    "\n",
    "\n",
    "    #Verifying the number of files loaded\n",
    "    len(pd_list)\n",
    "\n",
    "    #Create multiple columns for MFCC and chroma_vector\n",
    "    MFCC = pd_nor['features.audio.MFCC'].apply(pd.Series)\n",
    "    MFCC = MFCC.rename(columns = lambda x : 'MFCC-' + str(x))\n",
    "\n",
    "    chroma_vector = pd_nor['features.audio.chroma_vector'].apply(pd.Series)\n",
    "    chroma_vector = chroma_vector.rename(columns = lambda x : 'chroma-vector-' + str(x))\n",
    "\n",
    "    #Concatenate the new columns to the main dataframe\n",
    "    pd_nor = pd.concat([pd_nor[:], MFCC[:], chroma_vector[:]], axis=1)\n",
    "\n",
    "    #Drop MFCC & chroma vector columns\n",
    "    pd_nor.drop(['features.audio.MFCC'], axis=1, inplace=True)\n",
    "    pd_nor.drop(['features.audio.chroma_vector'], axis=1, inplace=True)\n",
    "\n",
    "\n",
    "    df = pd.DataFrame(pd_nor)\n",
    "\n",
    "    #Retain columns required\n",
    "    df1 = df.drop(['appversion','audiocountdown','createdon','healthcode','medtimepoint','recordID2','phoneinfo','recordingID','unnamed'], axis = 1)\n",
    "\n",
    "    #Extract column names\n",
    "    column_names = list(df1.columns.values)\n",
    "\n",
    "    #Empty dataframe\n",
    "    new_df = pd.DataFrame()\n",
    "\n",
    "    #Calulate var for each feature\n",
    "    for j in range(len(df1.columns)):\n",
    "        temp = ''.join(column_names[j].split('.',2)[-1])\n",
    "        new_col_name = temp + '_' + 'var'\n",
    "        temp = df1.iloc[:,j].apply(pd.Series)\n",
    "        new_df[new_col_name] = temp.var(axis=1, skipna=True)\n",
    "\n",
    "    # Add columns back to to the data set\n",
    "    result = pd.concat([df[['appversion','audiocountdown','createdon','healthcode','medtimepoint','recordID2','phoneinfo','recordingID','unnamed']], new_df], axis=1, join_axes=[df.index])\n",
    "    result.columns.values\n",
    "\n",
    "    #Create a csv file - to avoid reprocessing of all json files\n",
    "    df = pd.DataFrame(result)\n",
    "    filename = 'pd-'+str(i)+'.csv'\n",
    "    df.to_csv(filename, index=False)"
   ]
  },
  {
   "cell_type": "markdown",
   "metadata": {},
   "source": [
    "### Join demographic and csv files with mean, var and std"
   ]
  },
  {
   "cell_type": "code",
   "execution_count": 13,
   "metadata": {
    "collapsed": false
   },
   "outputs": [
    {
     "name": "stdout",
     "output_type": "stream",
     "text": [
      "(6805, 33)\n"
     ]
    }
   ],
   "source": [
    "#Read demographics excel\n",
    "df_dem = pd.read_excel('Demographics.xlsx')\n",
    "print(df_dem.shape)"
   ]
  },
  {
   "cell_type": "code",
   "execution_count": 14,
   "metadata": {
    "collapsed": false
   },
   "outputs": [
    {
     "name": "stdout",
     "output_type": "stream",
     "text": [
      "(6805, 31)\n"
     ]
    }
   ],
   "source": [
    "#Drop unnecessary columns\n",
    "df_dem = df_dem.drop(['appVersion','phoneInfo'], axis = 1)\n",
    "print(df_dem.shape)"
   ]
  },
  {
   "cell_type": "code",
   "execution_count": 15,
   "metadata": {
    "collapsed": false
   },
   "outputs": [
    {
     "name": "stdout",
     "output_type": "stream",
     "text": [
      "(58053, 43)\n",
      "(58053, 43)\n",
      "(58053, 43)\n"
     ]
    }
   ],
   "source": [
    "#Read CSV of mean, var & std values of PD audio features\n",
    "PD_mean = pd.read_csv('PD_audio_features_mean.csv')\n",
    "print(PD_mean.shape)\n",
    "PD_var = pd.read_csv('PD_audio_features_var.csv')\n",
    "print(PD_var.shape)\n",
    "PD_std = pd.read_csv('PD_audio_features_std.csv')\n",
    "print(PD_std.shape)"
   ]
  },
  {
   "cell_type": "code",
   "execution_count": 16,
   "metadata": {
    "collapsed": false
   },
   "outputs": [
    {
     "name": "stdout",
     "output_type": "stream",
     "text": [
      "Unique participants in the demographics dataset: 6805\n",
      "Unique participants in the voice activity: 5642\n"
     ]
    },
    {
     "data": {
      "text/html": [
       "<div>\n",
       "<table border=\"1\" class=\"dataframe\">\n",
       "  <thead>\n",
       "    <tr style=\"text-align: right;\">\n",
       "      <th></th>\n",
       "      <th>ROW_ID</th>\n",
       "      <th>ROW_VERSION</th>\n",
       "      <th>recordId</th>\n",
       "      <th>healthCode</th>\n",
       "      <th>createdOn</th>\n",
       "      <th>age</th>\n",
       "      <th>are-caretaker</th>\n",
       "      <th>deep-brain-stimulation</th>\n",
       "      <th>diagnosis-year</th>\n",
       "      <th>education</th>\n",
       "      <th>...</th>\n",
       "      <th>packs-per-day</th>\n",
       "      <th>past-participation</th>\n",
       "      <th>phone-usage</th>\n",
       "      <th>professional-diagnosis</th>\n",
       "      <th>race</th>\n",
       "      <th>smartphone</th>\n",
       "      <th>smoked</th>\n",
       "      <th>surgery</th>\n",
       "      <th>video-usage</th>\n",
       "      <th>years-smoking</th>\n",
       "    </tr>\n",
       "  </thead>\n",
       "  <tbody>\n",
       "  </tbody>\n",
       "</table>\n",
       "<p>0 rows × 31 columns</p>\n",
       "</div>"
      ],
      "text/plain": [
       "Empty DataFrame\n",
       "Columns: [ROW_ID, ROW_VERSION, recordId, healthCode, createdOn, age, are-caretaker, deep-brain-stimulation, diagnosis-year, education, employment, gender, health-history, healthcare-provider, home-usage, last-smoked, maritalStatus, medical-usage, medical-usage-yesterday, medication-start-year, onset-year, packs-per-day, past-participation, phone-usage, professional-diagnosis, race, smartphone, smoked, surgery, video-usage, years-smoking]\n",
       "Index: []\n",
       "\n",
       "[0 rows x 31 columns]"
      ]
     },
     "execution_count": 16,
     "metadata": {},
     "output_type": "execute_result"
    }
   ],
   "source": [
    "#Number of unique participants in the voice activity\n",
    "# Column : healthcode\n",
    "print('Unique participants in the demographics dataset: %d' %(df_dem.healthCode.nunique()))\n",
    "\n",
    "print('Unique participants in the voice activity: %d' %(PD_mean.healthcode.nunique()))\n",
    "\n",
    "#Are they duplicate entries in demographics data? -- No\n",
    "dup_participant = df_dem.groupby('healthCode')\n",
    "dup_participant.filter(lambda x: len(x) > 1)"
   ]
  },
  {
   "cell_type": "code",
   "execution_count": 17,
   "metadata": {
    "collapsed": true
   },
   "outputs": [],
   "source": [
    "#Rename column name in demographics data\n",
    "df_dem.rename(columns={'healthCode': 'healthcode'}, inplace = True)"
   ]
  },
  {
   "cell_type": "code",
   "execution_count": 18,
   "metadata": {
    "collapsed": false
   },
   "outputs": [
    {
     "name": "stdout",
     "output_type": "stream",
     "text": [
      "(56444, 73)\n",
      "['appversion' 'audiocountdown' 'createdon' 'healthcode' 'medtimepoint'\n",
      " 'recordID2' 'phoneinfo' 'recordingID' 'unnamed' 'ZCR_mean'\n",
      " 'chroma_deviation_mean' 'energy_mean' 'entropy_mean'\n",
      " 'spectral_centroid_mean' 'spectral_entropy_mean' 'spectral_flux_mean'\n",
      " 'spectral_rolloff_mean' 'spectral_spread_mean' 'MFCC-0_mean'\n",
      " 'MFCC-1_mean' 'MFCC-2_mean' 'MFCC-3_mean' 'MFCC-4_mean' 'MFCC-5_mean'\n",
      " 'MFCC-6_mean' 'MFCC-7_mean' 'MFCC-8_mean' 'MFCC-9_mean' 'MFCC-10_mean'\n",
      " 'MFCC-11_mean' 'MFCC-12_mean' 'chroma-vector-0_mean'\n",
      " 'chroma-vector-1_mean' 'chroma-vector-2_mean' 'chroma-vector-3_mean'\n",
      " 'chroma-vector-4_mean' 'chroma-vector-5_mean' 'chroma-vector-6_mean'\n",
      " 'chroma-vector-7_mean' 'chroma-vector-8_mean' 'chroma-vector-9_mean'\n",
      " 'chroma-vector-10_mean' 'chroma-vector-11_mean' 'ROW_ID' 'ROW_VERSION'\n",
      " 'recordId' 'createdOn' 'age' 'are-caretaker' 'deep-brain-stimulation'\n",
      " 'diagnosis-year' 'education' 'employment' 'gender' 'health-history'\n",
      " 'healthcare-provider' 'home-usage' 'last-smoked' 'maritalStatus'\n",
      " 'medical-usage' 'medical-usage-yesterday' 'medication-start-year'\n",
      " 'onset-year' 'packs-per-day' 'past-participation' 'phone-usage'\n",
      " 'professional-diagnosis' 'race' 'smartphone' 'smoked' 'surgery'\n",
      " 'video-usage' 'years-smoking']\n",
      "(56444, 73)\n",
      "['appversion' 'audiocountdown' 'createdon' 'healthcode' 'medtimepoint'\n",
      " 'recordID2' 'phoneinfo' 'recordingID' 'unnamed' 'ZCR_var'\n",
      " 'chroma_deviation_var' 'energy_var' 'entropy_var' 'spectral_centroid_var'\n",
      " 'spectral_entropy_var' 'spectral_flux_var' 'spectral_rolloff_var'\n",
      " 'spectral_spread_var' 'MFCC-0_var' 'MFCC-1_var' 'MFCC-2_var' 'MFCC-3_var'\n",
      " 'MFCC-4_var' 'MFCC-5_var' 'MFCC-6_var' 'MFCC-7_var' 'MFCC-8_var'\n",
      " 'MFCC-9_var' 'MFCC-10_var' 'MFCC-11_var' 'MFCC-12_var'\n",
      " 'chroma-vector-0_var' 'chroma-vector-1_var' 'chroma-vector-2_var'\n",
      " 'chroma-vector-3_var' 'chroma-vector-4_var' 'chroma-vector-5_var'\n",
      " 'chroma-vector-6_var' 'chroma-vector-7_var' 'chroma-vector-8_var'\n",
      " 'chroma-vector-9_var' 'chroma-vector-10_var' 'chroma-vector-11_var'\n",
      " 'ROW_ID' 'ROW_VERSION' 'recordId' 'createdOn' 'age' 'are-caretaker'\n",
      " 'deep-brain-stimulation' 'diagnosis-year' 'education' 'employment'\n",
      " 'gender' 'health-history' 'healthcare-provider' 'home-usage'\n",
      " 'last-smoked' 'maritalStatus' 'medical-usage' 'medical-usage-yesterday'\n",
      " 'medication-start-year' 'onset-year' 'packs-per-day' 'past-participation'\n",
      " 'phone-usage' 'professional-diagnosis' 'race' 'smartphone' 'smoked'\n",
      " 'surgery' 'video-usage' 'years-smoking']\n",
      "(56444, 73)\n",
      "['appversion' 'audiocountdown' 'createdon' 'healthcode' 'medtimepoint'\n",
      " 'recordID2' 'phoneinfo' 'recordingID' 'unnamed' 'ZCR_std'\n",
      " 'chroma_deviation_std' 'energy_std' 'entropy_std' 'spectral_centroid_std'\n",
      " 'spectral_entropy_std' 'spectral_flux_std' 'spectral_rolloff_std'\n",
      " 'spectral_spread_std' 'MFCC-0_std' 'MFCC-1_std' 'MFCC-2_std' 'MFCC-3_std'\n",
      " 'MFCC-4_std' 'MFCC-5_std' 'MFCC-6_std' 'MFCC-7_std' 'MFCC-8_std'\n",
      " 'MFCC-9_std' 'MFCC-10_std' 'MFCC-11_std' 'MFCC-12_std'\n",
      " 'chroma-vector-0_std' 'chroma-vector-1_std' 'chroma-vector-2_std'\n",
      " 'chroma-vector-3_std' 'chroma-vector-4_std' 'chroma-vector-5_std'\n",
      " 'chroma-vector-6_std' 'chroma-vector-7_std' 'chroma-vector-8_std'\n",
      " 'chroma-vector-9_std' 'chroma-vector-10_std' 'chroma-vector-11_std'\n",
      " 'ROW_ID' 'ROW_VERSION' 'recordId' 'createdOn' 'age' 'are-caretaker'\n",
      " 'deep-brain-stimulation' 'diagnosis-year' 'education' 'employment'\n",
      " 'gender' 'health-history' 'healthcare-provider' 'home-usage'\n",
      " 'last-smoked' 'maritalStatus' 'medical-usage' 'medical-usage-yesterday'\n",
      " 'medication-start-year' 'onset-year' 'packs-per-day' 'past-participation'\n",
      " 'phone-usage' 'professional-diagnosis' 'race' 'smartphone' 'smoked'\n",
      " 'surgery' 'video-usage' 'years-smoking']\n"
     ]
    }
   ],
   "source": [
    "#Merge demographic and PD audio features(mean) dataset\n",
    "result_mean = pd.merge(PD_mean, df_dem, on = ['healthcode'])\n",
    "print(result_mean.shape)\n",
    "print(result_mean.columns.values)\n",
    "\n",
    "#Merge demographic and PD audio features(var) dataset\n",
    "result_var = pd.merge(PD_var, df_dem, on = ['healthcode'])\n",
    "print(result_var.shape)\n",
    "print(result_var.columns.values)\n",
    "\n",
    "#Merge demographic and PD audio features(std) dataset\n",
    "result_std = pd.merge(PD_std, df_dem, on = ['healthcode'])\n",
    "print(result_std.shape)\n",
    "print(result_std.columns.values)"
   ]
  },
  {
   "cell_type": "code",
   "execution_count": 1,
   "metadata": {
    "collapsed": false
   },
   "outputs": [
    {
     "ename": "NameError",
     "evalue": "name 'result_mean' is not defined",
     "output_type": "error",
     "traceback": [
      "\u001b[0;31m---------------------------------------------------------------------------\u001b[0m",
      "\u001b[0;31mNameError\u001b[0m                                 Traceback (most recent call last)",
      "\u001b[0;32m<ipython-input-1-47c763b780d8>\u001b[0m in \u001b[0;36m<module>\u001b[0;34m()\u001b[0m\n\u001b[1;32m      1\u001b[0m \u001b[1;31m#Create new csv file\u001b[0m\u001b[1;33m\u001b[0m\u001b[1;33m\u001b[0m\u001b[0m\n\u001b[0;32m----> 2\u001b[0;31m \u001b[0mresult_mean\u001b[0m\u001b[1;33m.\u001b[0m\u001b[0mto_csv\u001b[0m\u001b[1;33m(\u001b[0m\u001b[1;34m'PD_audio_features_mean_with_demographics.csv'\u001b[0m\u001b[1;33m,\u001b[0m \u001b[0mindex\u001b[0m \u001b[1;33m=\u001b[0m \u001b[1;32mFalse\u001b[0m\u001b[1;33m)\u001b[0m\u001b[1;33m\u001b[0m\u001b[0m\n\u001b[0m\u001b[1;32m      3\u001b[0m \u001b[1;33m\u001b[0m\u001b[0m\n\u001b[1;32m      4\u001b[0m \u001b[0mresult_var\u001b[0m\u001b[1;33m.\u001b[0m\u001b[0mto_csv\u001b[0m\u001b[1;33m(\u001b[0m\u001b[1;34m'PD_audio_features_var_with_demographics.csv'\u001b[0m\u001b[1;33m,\u001b[0m \u001b[0mindex\u001b[0m \u001b[1;33m=\u001b[0m \u001b[1;32mFalse\u001b[0m\u001b[1;33m)\u001b[0m\u001b[1;33m\u001b[0m\u001b[0m\n\u001b[1;32m      5\u001b[0m \u001b[1;33m\u001b[0m\u001b[0m\n",
      "\u001b[0;31mNameError\u001b[0m: name 'result_mean' is not defined"
     ]
    }
   ],
   "source": [
    "#Create new csv file\n",
    "result_mean.to_csv('PD_audio_features_mean_with_demographics.csv', index = False)\n",
    "\n",
    "result_var.to_csv('PD_audio_features_var_with_demographics.csv', index = False)\n",
    "\n",
    "result_std.to_csv('PD_audio_features_std_with_demographics.csv', index = False)"
   ]
  },
  {
   "cell_type": "markdown",
   "metadata": {},
   "source": [
    "### Generate case-control data"
   ]
  },
  {
   "cell_type": "code",
   "execution_count": 5,
   "metadata": {
    "collapsed": false
   },
   "outputs": [
    {
     "name": "stdout",
     "output_type": "stream",
     "text": [
      "(56444, 73)\n",
      "(56444, 73)\n",
      "(56444, 73)\n"
     ]
    }
   ],
   "source": [
    "#Read file\n",
    "result_mean = pd.read_csv('PD_audio_features_mean_with_demographics.csv')\n",
    "print(result_mean.shape)\n",
    "\n",
    "result_var = pd.read_csv('PD_audio_features_var_with_demographics.csv')\n",
    "print(result_var.shape)\n",
    "\n",
    "result_std = pd.read_csv('PD_audio_features_std_with_demographics.csv')\n",
    "print(result_std.shape)"
   ]
  },
  {
   "cell_type": "code",
   "execution_count": 6,
   "metadata": {
    "collapsed": false
   },
   "outputs": [
    {
     "name": "stderr",
     "output_type": "stream",
     "text": [
      "C:\\Users\\vanlo\\Anaconda3\\lib\\site-packages\\pandas\\core\\indexing.py:141: SettingWithCopyWarning: \n",
      "A value is trying to be set on a copy of a slice from a DataFrame\n",
      "\n",
      "See the caveats in the documentation: http://pandas.pydata.org/pandas-docs/stable/indexing.html#indexing-view-versus-copy\n",
      "  self._setitem_with_indexer(indexer, value)\n"
     ]
    }
   ],
   "source": [
    "#Generate case-control data set for mean\n",
    "\n",
    "#Create a match pair column\n",
    "result_mean['match_pair'] = 0\n",
    "\n",
    "#Extract indexes of cases - PWP\n",
    "before_PD = result_mean.index[result_mean['medtimepoint'] == 'Immediately before Parkinson medication'].tolist()\n",
    "\n",
    "for i in before_PD:\n",
    "    temp_age = result_mean.iloc[i]['age']\n",
    "    temp_gender = result_mean.iloc[i]['gender']\n",
    "    temp = result_mean[(result_mean['age'] == temp_age) \n",
    "                       & (result_mean['gender'] == temp_gender) \n",
    "                       & (result_mean['medtimepoint'] == \"I don't take Parkinson medications\") \n",
    "                       & (result_mean['match_pair'] == 0)]\n",
    "  \n",
    "    #To pick cases where atleast 2 controls are found\n",
    "    if temp.shape[0] > 1:\n",
    "        result_mean.match_pair.iloc[i] = i\n",
    "        result_mean.match_pair.iloc[temp.sample(n=2).index.tolist()] = i"
   ]
  },
  {
   "cell_type": "code",
   "execution_count": 7,
   "metadata": {
    "collapsed": false
   },
   "outputs": [
    {
     "name": "stdout",
     "output_type": "stream",
     "text": [
      "(56444, 74)\n",
      "(56233, 74)\n"
     ]
    }
   ],
   "source": [
    "#Find columns with NA values\n",
    "result_mean.isnull().any()\n",
    "print(result_mean.shape)\n",
    "result_mean = result_mean[result_mean['chroma_deviation_mean'].notnull()]\n",
    "result_mean = result_mean[result_mean['medtimepoint'].notnull()]\n",
    "print(result_mean.shape)"
   ]
  },
  {
   "cell_type": "code",
   "execution_count": 8,
   "metadata": {
    "collapsed": false
   },
   "outputs": [
    {
     "name": "stderr",
     "output_type": "stream",
     "text": [
      "C:\\Users\\vanlo\\Anaconda3\\lib\\site-packages\\pandas\\core\\indexing.py:141: SettingWithCopyWarning: \n",
      "A value is trying to be set on a copy of a slice from a DataFrame\n",
      "\n",
      "See the caveats in the documentation: http://pandas.pydata.org/pandas-docs/stable/indexing.html#indexing-view-versus-copy\n",
      "  self._setitem_with_indexer(indexer, value)\n"
     ]
    }
   ],
   "source": [
    "#Generate case-control data set for var\n",
    "\n",
    "#Create a match pair column\n",
    "result_var['match_pair'] = 0\n",
    "\n",
    "#Extract indexes of cases - PWP\n",
    "before_PD = result_var.index[result_var['medtimepoint'] == 'Immediately before Parkinson medication'].tolist()\n",
    "\n",
    "for i in before_PD:\n",
    "    temp_age = result_var.iloc[i]['age']\n",
    "    temp_gender = result_var.iloc[i]['gender']\n",
    "    temp = result_var[(result_var['age'] == temp_age) \n",
    "                       & (result_var['gender'] == temp_gender) \n",
    "                       & (result_var['medtimepoint'] == \"I don't take Parkinson medications\") \n",
    "                       & (result_var['match_pair'] == 0)]\n",
    "  \n",
    "    #To pick cases where atleast 2 controls are found\n",
    "    if temp.shape[0] > 1:\n",
    "        result_var.match_pair.iloc[i] = i\n",
    "        result_var.match_pair.iloc[temp.sample(n=2).index.tolist()] = i"
   ]
  },
  {
   "cell_type": "code",
   "execution_count": 15,
   "metadata": {
    "collapsed": false
   },
   "outputs": [
    {
     "name": "stdout",
     "output_type": "stream",
     "text": [
      "(56233, 74)\n",
      "(56233, 74)\n"
     ]
    }
   ],
   "source": [
    "#Find columns with NA values\n",
    "result_var.isnull().any()\n",
    "print(result_var.shape)\n",
    "result_var = result_var[result_var['medtimepoint'].notnull()]\n",
    "result_var = result_var[result_var['chroma_deviation_var'].notnull()]\n",
    "print(result_var.shape)"
   ]
  },
  {
   "cell_type": "code",
   "execution_count": 18,
   "metadata": {
    "collapsed": false
   },
   "outputs": [
    {
     "name": "stderr",
     "output_type": "stream",
     "text": [
      "C:\\Users\\vanlo\\Anaconda3\\lib\\site-packages\\pandas\\core\\indexing.py:141: SettingWithCopyWarning: \n",
      "A value is trying to be set on a copy of a slice from a DataFrame\n",
      "\n",
      "See the caveats in the documentation: http://pandas.pydata.org/pandas-docs/stable/indexing.html#indexing-view-versus-copy\n",
      "  self._setitem_with_indexer(indexer, value)\n"
     ]
    }
   ],
   "source": [
    "#Generate case-control data set for mean\n",
    "\n",
    "#Create a match pair column\n",
    "result_std['match_pair'] = 0\n",
    "\n",
    "#Extract indexes of cases - PWP\n",
    "before_PD = result_std.index[result_std['medtimepoint'] == 'Immediately before Parkinson medication'].tolist()\n",
    "\n",
    "for i in before_PD[:500]:\n",
    "    temp_age = result_std.iloc[i]['age']\n",
    "    temp_gender = result_std.iloc[i]['gender']\n",
    "    temp = result_std[(result_std['age'] == temp_age) \n",
    "                       & (result_std['gender'] == temp_gender) \n",
    "                       & (result_std['medtimepoint'] == \"I don't take Parkinson medications\") \n",
    "                       & (result_std['match_pair'] == 0)]\n",
    "  \n",
    "    #To pick cases where atleast 2 controls are found\n",
    "    if temp.shape[0] > 1:\n",
    "        result_std.match_pair.iloc[i] = i\n",
    "        result_std.match_pair.iloc[temp.sample(n=2).index.tolist()] = i"
   ]
  },
  {
   "cell_type": "code",
   "execution_count": 22,
   "metadata": {
    "collapsed": false
   },
   "outputs": [
    {
     "name": "stdout",
     "output_type": "stream",
     "text": [
      "(56444, 74)\n",
      "(56233, 74)\n"
     ]
    }
   ],
   "source": [
    "#Find columns with NA values\n",
    "result_std.isnull().any()\n",
    "print(result_std.shape)\n",
    "result_std = result_std[result_std['medtimepoint'].notnull()]\n",
    "result_std = result_std[result_std['chroma_deviation_std'].notnull()]\n",
    "result_std = result_std[result_std['spectral_centroid_std'].notnull()]\n",
    "result_std = result_std[result_std['spectral_spread_std'].notnull()]\n",
    "print(result_std.shape)"
   ]
  },
  {
   "cell_type": "code",
   "execution_count": 23,
   "metadata": {
    "collapsed": true
   },
   "outputs": [],
   "source": [
    "result_mean.to_csv('PD_mean_case_control.csv')\n",
    "result_var.to_csv('PD_var_case_control.csv')\n",
    "result_std.to_csv('PD_std_case_control.csv')"
   ]
  }
 ],
 "metadata": {
  "kernelspec": {
   "display_name": "Python 3",
   "language": "python",
   "name": "python3"
  },
  "language_info": {
   "codemirror_mode": {
    "name": "ipython",
    "version": 3
   },
   "file_extension": ".py",
   "mimetype": "text/x-python",
   "name": "python",
   "nbconvert_exporter": "python",
   "pygments_lexer": "ipython3",
   "version": "3.6.0"
  }
 },
 "nbformat": 4,
 "nbformat_minor": 2
}
