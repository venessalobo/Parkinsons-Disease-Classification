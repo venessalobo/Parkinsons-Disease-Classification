{
 "cells": [
  {
   "cell_type": "code",
   "execution_count": 1,
   "metadata": {
    "collapsed": false
   },
   "outputs": [],
   "source": [
    "#Import Libraries\n",
    "import pandas as pd\n",
    "import matplotlib.pyplot as plt\n",
    "from sklearn.decomposition import PCA\n",
    "from sklearn import svm\n",
    "from sklearn.model_selection import GridSearchCV\n",
    "from sklearn.metrics import classification_report\n",
    "from sklearn.utils import shuffle\n",
    "from sklearn.model_selection import train_test_split\n",
    "from sklearn.model_selection import cross_val_score\n",
    "import numpy as np\n",
    "import random"
   ]
  },
  {
   "cell_type": "code",
   "execution_count": 2,
   "metadata": {
    "collapsed": false
   },
   "outputs": [
    {
     "name": "stdout",
     "output_type": "stream",
     "text": [
      "(56444, 73)\n",
      "(56444, 73)\n",
      "(56444, 73)\n"
     ]
    }
   ],
   "source": [
    "#Read file (audio features joined with demographics)\n",
    "result_mean = pd.read_csv('PD_audio_features_mean_with_demographics.csv')\n",
    "print(result_mean.shape)\n",
    "\n",
    "result_var = pd.read_csv('PD_audio_features_var_with_demographics.csv')\n",
    "print(result_var.shape)\n",
    "\n",
    "result_std = pd.read_csv('PD_audio_features_std_with_demographics.csv')\n",
    "print(result_std.shape)"
   ]
  },
  {
   "cell_type": "code",
   "execution_count": 3,
   "metadata": {
    "collapsed": false
   },
   "outputs": [
    {
     "name": "stdout",
     "output_type": "stream",
     "text": [
      "medtimepoint\n",
      "Another time                                      15900\n",
      "I don't take Parkinson medications                23420\n",
      "Immediately before Parkinson medication            8152\n",
      "Just after Parkinson medication (at your best)     8762\n",
      "dtype: int64\n",
      "                                                medtimepoint\n",
      "medtimepoint                                                \n",
      "Another time                                       28.274709\n",
      "I don't take Parkinson medications                 41.647402\n",
      "Immediately before Parkinson medication            14.496568\n",
      "Just after Parkinson medication (at your best)     15.581321\n"
     ]
    }
   ],
   "source": [
    "#Understanding proportions of individuals in each category\n",
    "print(result_mean.groupby(['medtimepoint']).size())\n",
    "temp = result_mean[['medtimepoint']]\n",
    "t1 = temp.groupby(['medtimepoint']).agg({'medtimepoint': 'count'})\n",
    "print(t1.apply(lambda x:100 * x / float(x.sum())))"
   ]
  },
  {
   "cell_type": "code",
   "execution_count": 4,
   "metadata": {
    "collapsed": false
   },
   "outputs": [
    {
     "name": "stdout",
     "output_type": "stream",
     "text": [
      "(56233, 75)\n",
      "(56233, 75)\n",
      "(56233, 75)\n"
     ]
    }
   ],
   "source": [
    "#Read case control files\n",
    "result_mean = pd.read_csv('PD_mean_case_control.csv')\n",
    "print(result_mean.shape)\n",
    "\n",
    "result_var = pd.read_csv('PD_var_case_control.csv')\n",
    "print(result_var.shape)\n",
    "\n",
    "result_std = pd.read_csv('PD_std_case_control.csv')\n",
    "print(result_std.shape)"
   ]
  },
  {
   "cell_type": "code",
   "execution_count": 5,
   "metadata": {
    "collapsed": false
   },
   "outputs": [
    {
     "name": "stderr",
     "output_type": "stream",
     "text": [
      "C:\\Users\\vanlo\\Anaconda3\\lib\\site-packages\\ipykernel\\__main__.py:2: SettingWithCopyWarning: \n",
      "A value is trying to be set on a copy of a slice from a DataFrame\n",
      "\n",
      "See the caveats in the documentation: http://pandas.pydata.org/pandas-docs/stable/indexing.html#indexing-view-versus-copy\n",
      "  from ipykernel import kernelapp as app\n"
     ]
    },
    {
     "data": {
      "text/plain": [
       "(11289, 74)"
      ]
     },
     "execution_count": 5,
     "metadata": {},
     "output_type": "execute_result"
    }
   ],
   "source": [
    "case_control_data = result_mean[result_mean['match_pair'] != 0]\n",
    "case_control_data.drop(case_control_data.columns[0], axis=1, inplace = True)\n",
    "case_control_data.shape\n",
    "#case_control_data"
   ]
  },
  {
   "cell_type": "code",
   "execution_count": 6,
   "metadata": {
    "collapsed": false
   },
   "outputs": [],
   "source": [
    "X = case_control_data.iloc[:,9:43]\n",
    "Y = case_control_data.iloc[:,4]\n",
    "\n",
    "#Create train and test\n",
    "X_train, X_test, y_train, y_test = train_test_split(\n",
    "     X, Y, test_size=0.2, random_state=0)"
   ]
  },
  {
   "cell_type": "code",
   "execution_count": 7,
   "metadata": {
    "collapsed": false
   },
   "outputs": [
    {
     "name": "stdout",
     "output_type": "stream",
     "text": [
      "0.8007085916740478\n",
      "[0.59911504 0.64513274 0.61504425 0.63596103 0.62444641 0.60230292\n",
      " 0.58865248 0.65602837 0.60283688 0.65248227]\n",
      "Accuracy: 0.62 (+/- 0.05)\n"
     ]
    }
   ],
   "source": [
    "# Create SVM classification object \n",
    "model = svm.SVC(C=1, gamma=1)\n",
    "model.fit(X_train, y_train)\n",
    "print(model.score(X_test,y_test))\n",
    "\n",
    "scores = cross_val_score(model, X, Y, cv=10)\n",
    "print(scores)\n",
    "\n",
    "print(\"Accuracy: %0.2f (+/- %0.2f)\" % (scores.mean(), scores.std() * 2))\n",
    "\n",
    "#Predict Output\n",
    "predicted= model.predict(X_test)"
   ]
  },
  {
   "cell_type": "code",
   "execution_count": 9,
   "metadata": {
    "collapsed": false
   },
   "outputs": [
    {
     "name": "stdout",
     "output_type": "stream",
     "text": [
      "Detailed classification report:\n",
      "\n",
      "The model is trained on the full development set.\n",
      "The scores are computed on the full evaluation set.\n",
      "\n",
      "                                         precision    recall  f1-score   support\n",
      "\n",
      "     I don't take Parkinson medications       0.80      0.95      0.86      1518\n",
      "Immediately before Parkinson medication       0.82      0.50      0.62       740\n",
      "\n",
      "                            avg / total       0.80      0.80      0.79      2258\n",
      "\n",
      "\n"
     ]
    }
   ],
   "source": [
    "print(\"Detailed classification report:\")\n",
    "print()\n",
    "print(\"The model is trained on the full development set.\")\n",
    "print(\"The scores are computed on the full evaluation set.\")\n",
    "print()\n",
    "y_true, y_pred = y_test, model.predict(X_test)\n",
    "print(classification_report(y_true, y_pred))\n",
    "print()"
   ]
  },
  {
   "cell_type": "code",
   "execution_count": 10,
   "metadata": {
    "collapsed": false
   },
   "outputs": [
    {
     "name": "stderr",
     "output_type": "stream",
     "text": [
      "C:\\Users\\vanlo\\Anaconda3\\lib\\site-packages\\ipykernel\\__main__.py:2: SettingWithCopyWarning: \n",
      "A value is trying to be set on a copy of a slice from a DataFrame\n",
      "\n",
      "See the caveats in the documentation: http://pandas.pydata.org/pandas-docs/stable/indexing.html#indexing-view-versus-copy\n",
      "  from ipykernel import kernelapp as app\n"
     ]
    },
    {
     "data": {
      "text/plain": [
       "(11289, 74)"
      ]
     },
     "execution_count": 10,
     "metadata": {},
     "output_type": "execute_result"
    }
   ],
   "source": [
    "case_control_data = result_var[result_var['match_pair'] != 0]\n",
    "case_control_data.drop(case_control_data.columns[0], axis=1,inplace = True)\n",
    "case_control_data.shape"
   ]
  },
  {
   "cell_type": "code",
   "execution_count": 11,
   "metadata": {
    "collapsed": true
   },
   "outputs": [],
   "source": [
    "X = case_control_data.iloc[:,9:43]\n",
    "Y = case_control_data.iloc[:,4]\n",
    "\n",
    "#Create train and test\n",
    "X_train, X_test, y_train, y_test = train_test_split(\n",
    "     X, Y, test_size=0.2, random_state=0)"
   ]
  },
  {
   "cell_type": "code",
   "execution_count": 12,
   "metadata": {
    "collapsed": false
   },
   "outputs": [
    {
     "name": "stdout",
     "output_type": "stream",
     "text": [
      "0.6842338352524358\n",
      "[0.66725664 0.66548673 0.66725664 0.66784765 0.66696191 0.66696191\n",
      " 0.65957447 0.66489362 0.66400709 0.66755319]\n",
      "Accuracy: 0.67 (+/- 0.00)\n"
     ]
    }
   ],
   "source": [
    "# Create SVM classification object \n",
    "model = svm.SVC(C=1, gamma=1)\n",
    "model.fit(X_train, y_train)\n",
    "print(model.score(X_test,y_test))\n",
    "\n",
    "scores = cross_val_score(model, X, Y, cv=10)\n",
    "print(scores)\n",
    "\n",
    "print(\"Accuracy: %0.2f (+/- %0.2f)\" % (scores.mean(), scores.std() * 2))\n",
    "\n",
    "#Predict Output\n",
    "predicted= model.predict(X_test)"
   ]
  },
  {
   "cell_type": "code",
   "execution_count": 13,
   "metadata": {
    "collapsed": false
   },
   "outputs": [
    {
     "name": "stdout",
     "output_type": "stream",
     "text": [
      "Detailed classification report:\n",
      "\n",
      "The model is trained on the full development set.\n",
      "The scores are computed on the full evaluation set.\n",
      "\n",
      "                                         precision    recall  f1-score   support\n",
      "\n",
      "     I don't take Parkinson medications       0.68      1.00      0.81      1528\n",
      "Immediately before Parkinson medication       0.95      0.02      0.05       730\n",
      "\n",
      "                            avg / total       0.77      0.68      0.56      2258\n",
      "\n",
      "\n"
     ]
    }
   ],
   "source": [
    "print(\"Detailed classification report:\")\n",
    "print()\n",
    "print(\"The model is trained on the full development set.\")\n",
    "print(\"The scores are computed on the full evaluation set.\")\n",
    "print()\n",
    "y_true, y_pred = y_test, model.predict(X_test)\n",
    "print(classification_report(y_true, y_pred))\n",
    "print()"
   ]
  },
  {
   "cell_type": "code",
   "execution_count": 14,
   "metadata": {
    "collapsed": false
   },
   "outputs": [
    {
     "name": "stderr",
     "output_type": "stream",
     "text": [
      "C:\\Users\\vanlo\\Anaconda3\\lib\\site-packages\\ipykernel\\__main__.py:2: SettingWithCopyWarning: \n",
      "A value is trying to be set on a copy of a slice from a DataFrame\n",
      "\n",
      "See the caveats in the documentation: http://pandas.pydata.org/pandas-docs/stable/indexing.html#indexing-view-versus-copy\n",
      "  from ipykernel import kernelapp as app\n"
     ]
    },
    {
     "data": {
      "text/plain": [
       "(984, 74)"
      ]
     },
     "execution_count": 14,
     "metadata": {},
     "output_type": "execute_result"
    }
   ],
   "source": [
    "case_control_data = result_std[result_std['match_pair'] != 0]\n",
    "case_control_data.drop(case_control_data.columns[0], axis=1, inplace = True)\n",
    "case_control_data.shape\n",
    "#case_control_data"
   ]
  },
  {
   "cell_type": "code",
   "execution_count": 15,
   "metadata": {
    "collapsed": true
   },
   "outputs": [],
   "source": [
    "X = case_control_data.iloc[:,9:43]\n",
    "Y = case_control_data.iloc[:,4]\n",
    "\n",
    "#Create train and test\n",
    "X_train, X_test, y_train, y_test = train_test_split(\n",
    "     X, Y, test_size=0.2, random_state=0)"
   ]
  },
  {
   "cell_type": "code",
   "execution_count": 16,
   "metadata": {
    "collapsed": false
   },
   "outputs": [
    {
     "name": "stdout",
     "output_type": "stream",
     "text": [
      "0.7055837563451777\n",
      "[0.57575758 0.6969697  0.67676768 0.66666667 0.67676768 0.61616162\n",
      " 0.64285714 0.66326531 0.65979381 0.69072165]\n",
      "Accuracy: 0.66 (+/- 0.07)\n"
     ]
    }
   ],
   "source": [
    "# Create SVM classification object \n",
    "model = svm.SVC(C=1, gamma=1)\n",
    "model.fit(X_train, y_train)\n",
    "print(model.score(X_test,y_test))\n",
    "\n",
    "scores = cross_val_score(model, X, Y, cv=10)\n",
    "print(scores)\n",
    "\n",
    "print(\"Accuracy: %0.2f (+/- %0.2f)\" % (scores.mean(), scores.std() * 2))\n",
    "\n",
    "#Predict Output\n",
    "predicted= model.predict(X_test)"
   ]
  },
  {
   "cell_type": "code",
   "execution_count": 17,
   "metadata": {
    "collapsed": false
   },
   "outputs": [
    {
     "name": "stdout",
     "output_type": "stream",
     "text": [
      "Detailed classification report:\n",
      "\n",
      "The model is trained on the full development set.\n",
      "The scores are computed on the full evaluation set.\n",
      "\n",
      "                                         precision    recall  f1-score   support\n",
      "\n",
      "     I don't take Parkinson medications       0.70      0.99      0.82       133\n",
      "Immediately before Parkinson medication       0.88      0.11      0.19        64\n",
      "\n",
      "                            avg / total       0.76      0.71      0.62       197\n",
      "\n",
      "\n"
     ]
    }
   ],
   "source": [
    "print(\"Detailed classification report:\")\n",
    "print()\n",
    "print(\"The model is trained on the full development set.\")\n",
    "print(\"The scores are computed on the full evaluation set.\")\n",
    "print()\n",
    "y_true, y_pred = y_test, model.predict(X_test)\n",
    "print(classification_report(y_true, y_pred))\n",
    "print()"
   ]
  },
  {
   "cell_type": "code",
   "execution_count": 19,
   "metadata": {
    "collapsed": false
   },
   "outputs": [
    {
     "name": "stdout",
     "output_type": "stream",
     "text": [
      "# Tuning hyper-parameters\n",
      "\n",
      "Best parameters set found on development set:\n",
      "\n",
      "{'C': 1, 'gamma': 0.0001, 'kernel': 'rbf'}\n",
      "\n",
      "Grid scores on training set:\n",
      "\n",
      "0.667 (+/-0.003) for {'C': 1, 'gamma': 0.0001, 'kernel': 'rbf'}\n",
      "0.667 (+/-0.003) for {'C': 1, 'gamma': 0.001, 'kernel': 'rbf'}\n",
      "0.667 (+/-0.003) for {'C': 10, 'gamma': 0.0001, 'kernel': 'rbf'}\n",
      "0.667 (+/-0.003) for {'C': 10, 'gamma': 0.001, 'kernel': 'rbf'}\n",
      "0.666 (+/-0.006) for {'C': 1, 'kernel': 'linear'}\n",
      "0.653 (+/-0.077) for {'C': 10, 'kernel': 'linear'}\n",
      "\n"
     ]
    }
   ],
   "source": [
    "parameters = [{'kernel': ['rbf'],\n",
    "               'gamma': [1e-4, 1e-3],\n",
    "                'C': [1, 10]},\n",
    "              {'kernel': ['linear'], 'C': [1, 10]}]\n",
    "\n",
    "print(\"# Tuning hyper-parameters\")\n",
    "print()\n",
    "\n",
    "clf = GridSearchCV(svm.SVC(decision_function_shape='ovr'), parameters, cv=5)\n",
    "clf.fit(X, Y)\n",
    "\n",
    "print(\"Best parameters set found on development set:\")\n",
    "print()\n",
    "print(clf.best_params_)\n",
    "print()\n",
    "print(\"Grid scores on training set:\")\n",
    "print()\n",
    "means = clf.cv_results_['mean_test_score']\n",
    "stds = clf.cv_results_['std_test_score']\n",
    "for mean, std, params in zip(means, stds, clf.cv_results_['params']):\n",
    "    print(\"%0.3f (+/-%0.03f) for %r\"\n",
    "          % (mean, std * 2, params))\n",
    "print()"
   ]
  }
 ],
 "metadata": {
  "kernelspec": {
   "display_name": "Python 3",
   "language": "python",
   "name": "python3"
  },
  "language_info": {
   "codemirror_mode": {
    "name": "ipython",
    "version": 3
   },
   "file_extension": ".py",
   "mimetype": "text/x-python",
   "name": "python",
   "nbconvert_exporter": "python",
   "pygments_lexer": "ipython3",
   "version": "3.6.0"
  }
 },
 "nbformat": 4,
 "nbformat_minor": 2
}
